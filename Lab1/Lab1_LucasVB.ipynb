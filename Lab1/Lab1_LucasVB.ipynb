{
 "cells": [
  {
   "cell_type": "code",
   "execution_count": 8,
   "metadata": {},
   "outputs": [],
   "source": [
    "#Imports\n",
    "import cv2 as cv\n",
    "import matplotlib.pyplot as plt\n",
    "import numpy as np"
   ]
  },
  {
   "cell_type": "markdown",
   "metadata": {},
   "source": [
    "# Exercise 1"
   ]
  },
  {
   "cell_type": "code",
   "execution_count": 9,
   "metadata": {},
   "outputs": [
    {
     "data": {
      "text/plain": [
       "-1"
      ]
     },
     "execution_count": 9,
     "metadata": {},
     "output_type": "execute_result"
    }
   ],
   "source": [
    "# Loading cloud image\n",
    "\n",
    "clouds = cv.imread(\"./Images/clouds.png\")\n",
    "#plt.imshow(clouds)\n",
    "cv.imshow(\"Clouds image\",clouds)\n",
    "cv.waitKey(0)\n"
   ]
  },
  {
   "cell_type": "markdown",
   "metadata": {},
   "source": [
    "## Question 1:\n",
    "### What do the dimensions of the image array represent?\n",
    "\n",
    "The array shape of the image is (width,height,BGR): in the clouds image this is (600,400,BGR(depends on pixel)).\n",
    "BGR is the same as RGB but in reverse."
   ]
  },
  {
   "cell_type": "markdown",
   "metadata": {},
   "source": [
    "## Assignment 1: Crop the image so it becomes square by chopping off the bottom part. "
   ]
  },
  {
   "cell_type": "code",
   "execution_count": 10,
   "metadata": {},
   "outputs": [
    {
     "data": {
      "text/plain": [
       "-1"
      ]
     },
     "execution_count": 10,
     "metadata": {},
     "output_type": "execute_result"
    }
   ],
   "source": [
    "clouds_cropped = clouds[:clouds.shape[1]]\n",
    "cv.imshow(\"clouds_cropped\",clouds_cropped)\n",
    "cv.waitKey(0)"
   ]
  },
  {
   "cell_type": "markdown",
   "metadata": {},
   "source": [
    "## Assignment 2: Discolor the image by reducing the intensity of the red value of every pixel by half."
   ]
  },
  {
   "cell_type": "code",
   "execution_count": 11,
   "metadata": {},
   "outputs": [
    {
     "data": {
      "text/plain": [
       "-1"
      ]
     },
     "execution_count": 11,
     "metadata": {},
     "output_type": "execute_result"
    }
   ],
   "source": [
    "clouds_distorted = clouds.copy()\n",
    "clouds_distorted[:, :, 2] = np.clip(clouds_distorted[:, :, 2] * 0.5, 0, 255).astype(np.uint8)\n",
    "\n",
    "cv.imshow(\"clouds_red_halved\",clouds_distorted)\n",
    "cv.waitKey(0)"
   ]
  },
  {
   "cell_type": "markdown",
   "metadata": {},
   "source": [
    "## Assignment 3: Discolor the image by doubling the intensity of the red value of every pixel. You may have to handle an overflow problem (and use two more lines of code)."
   ]
  },
  {
   "cell_type": "code",
   "execution_count": 14,
   "metadata": {},
   "outputs": [
    {
     "data": {
      "text/plain": [
       "-1"
      ]
     },
     "execution_count": 14,
     "metadata": {},
     "output_type": "execute_result"
    }
   ],
   "source": [
    "clouds_doubled = clouds.copy()\n",
    "clouds_doubled[:, :, 2] = np.minimum(clouds_doubled[:, :, 2] * 2, 255).astype(np.uint8)\n",
    "\n",
    "cv.imshow(\"red_doubled\",clouds_doubled)\n",
    "cv.waitKey(0)"
   ]
  },
  {
   "cell_type": "markdown",
   "metadata": {},
   "source": [
    "## Assignment 4: Make a regular grid of black dots on the image so that the dots are 10 pixels apart vertically and horizontally, like in the image below."
   ]
  },
  {
   "cell_type": "code",
   "execution_count": 7,
   "metadata": {},
   "outputs": [
    {
     "data": {
      "text/plain": [
       "-1"
      ]
     },
     "execution_count": 7,
     "metadata": {},
     "output_type": "execute_result"
    }
   ],
   "source": [
    "clouds_dotted = clouds.copy()\n",
    "\n",
    "clouds_dotted[::10,::10] = [0,0,0]\n",
    "\n",
    "cv.imshow(\"clouds_dotted\", clouds_dotted)\n",
    "cv.waitKey(0)"
   ]
  }
 ],
 "metadata": {
  "kernelspec": {
   "display_name": "ML",
   "language": "python",
   "name": "python3"
  },
  "language_info": {
   "codemirror_mode": {
    "name": "ipython",
    "version": 3
   },
   "file_extension": ".py",
   "mimetype": "text/x-python",
   "name": "python",
   "nbconvert_exporter": "python",
   "pygments_lexer": "ipython3",
   "version": "3.10.7"
  }
 },
 "nbformat": 4,
 "nbformat_minor": 2
}
